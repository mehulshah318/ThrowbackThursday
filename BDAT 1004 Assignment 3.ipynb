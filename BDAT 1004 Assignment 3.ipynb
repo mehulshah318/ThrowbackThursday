{
 "cells": [
  {
   "cell_type": "markdown",
   "metadata": {},
   "source": [
    "# Assignment 3 Iterations, Strings, Files, Lists and Tuples"
   ]
  },
  {
   "cell_type": "markdown",
   "metadata": {},
   "source": [
    "## Chapter 5"
   ]
  },
  {
   "cell_type": "markdown",
   "metadata": {},
   "source": [
    "### Exercise 1"
   ]
  },
  {
   "cell_type": "code",
   "execution_count": 1,
   "metadata": {},
   "outputs": [
    {
     "name": "stdout",
     "output_type": "stream",
     "text": [
      "Enter numbers 23\n",
      "Enter numbers 12\n",
      "Enter numbers 10\n",
      "Enter numbers done\n",
      "The Addition of the numbers is:  45.0 The count of the numbers is:  3 And the average is:  15.0\n",
      "Done!\n"
     ]
    }
   ],
   "source": [
    "num=0\n",
    "tot=0.0\n",
    "while True:\n",
    "    number = input(\"Enter numbers \")\n",
    "    if number == 'done':\n",
    "        break\n",
    "    try:\n",
    "        num1=float(number)\n",
    "    except:\n",
    "        print(\"Invalid input \")\n",
    "        continue\n",
    "    num=num+1\n",
    "    tot=tot+num1\n",
    "print(\"The Addition of the numbers is: \",tot,\"The count of the numbers is: \",num,\"And the average is: \",tot/num)\n",
    "print('Done!')"
   ]
  },
  {
   "cell_type": "markdown",
   "metadata": {},
   "source": [
    "### Exercise 2"
   ]
  },
  {
   "cell_type": "code",
   "execution_count": 2,
   "metadata": {},
   "outputs": [
    {
     "name": "stdout",
     "output_type": "stream",
     "text": [
      "Enter numbers 32\n",
      "Enter numbers 12\n",
      "Enter numbers 10\n",
      "Enter numbers done\n",
      "\n",
      "The Addition of the numbers is:  54.0 \n",
      "The count of the numbers is:  3 \n",
      "Smallest is:  10 \n",
      "Largest is: 32\n",
      "Done!\n"
     ]
    }
   ],
   "source": [
    "num=0\n",
    "tot=0.0\n",
    "largest=None\n",
    "smallest=None\n",
    "while True:\n",
    "    number = input(\"Enter numbers \")\n",
    "    if number == 'done':\n",
    "        break\n",
    "    try:\n",
    "        num1=float(number)\n",
    "        if largest==None:\n",
    "            largest=number\n",
    "            smallest=number\n",
    "        if smallest>number:\n",
    "            smallest=number\n",
    "        if largest<number:\n",
    "            largest=number\n",
    "    except:\n",
    "        print(\"Invalid input \")\n",
    "        continue\n",
    "    num=num+1\n",
    "    tot=tot+num1\n",
    "print(\"\\nThe Addition of the numbers is: \",tot,\"\\nThe count of the numbers is: \",num,\"\\nSmallest is: \",smallest,\"\\nLargest is:\",largest)\n",
    "print('Done!')"
   ]
  },
  {
   "cell_type": "markdown",
   "metadata": {},
   "source": [
    "## Chapter 6"
   ]
  },
  {
   "cell_type": "markdown",
   "metadata": {},
   "source": [
    "### Exercise 5"
   ]
  },
  {
   "cell_type": "code",
   "execution_count": 3,
   "metadata": {},
   "outputs": [
    {
     "name": "stdout",
     "output_type": "stream",
     "text": [
      "0.8475\n"
     ]
    }
   ],
   "source": [
    "string = 'X-DSPAM-Confidence:0.8475'\n",
    "index = string.find(':')\n",
    "length= string[index+1:]\n",
    "convert=float(length)\n",
    "print(convert)"
   ]
  },
  {
   "cell_type": "markdown",
   "metadata": {},
   "source": [
    "## Chapter 7"
   ]
  },
  {
   "cell_type": "markdown",
   "metadata": {},
   "source": [
    "### Exercise 2"
   ]
  },
  {
   "cell_type": "code",
   "execution_count": 6,
   "metadata": {},
   "outputs": [
    {
     "name": "stdout",
     "output_type": "stream",
     "text": [
      "Enter file name: mbox.txt\n",
      "Average spam confidence: 0.8941280467445736\n"
     ]
    }
   ],
   "source": [
    "read_file = input(\"Enter file name: \")\n",
    "fh = open(read_file)\n",
    "count = 0\n",
    "addition = 0\n",
    "for line in fh:\n",
    "    if not line.startswith(\"X-DSPAM-Confidence:\"):\n",
    "        continue\n",
    "    colen_position = line.find(':')\n",
    "    convert = line[colen_position+1:]\n",
    "    end = float(convert)\n",
    "    addition = addition+end\n",
    "    count = count+1\n",
    "    \n",
    "print(\"Average spam confidence:\", addition/count)"
   ]
  },
  {
   "cell_type": "markdown",
   "metadata": {},
   "source": [
    "## Chapter 8"
   ]
  },
  {
   "cell_type": "markdown",
   "metadata": {},
   "source": [
    "### Exercise 4"
   ]
  },
  {
   "cell_type": "code",
   "execution_count": 8,
   "metadata": {},
   "outputs": [
    {
     "name": "stdout",
     "output_type": "stream",
     "text": [
      "Enter file name: romeo.txt\n",
      "['Arise', 'But', 'It', 'Juliet', 'Who', 'already', 'and', 'breaks', 'east', 'envious', 'fair', 'grief', 'is', 'kill', 'light', 'moon', 'pale', 'sick', 'soft', 'sun', 'the', 'through', 'what', 'window', 'with', 'yonder']\n"
     ]
    }
   ],
   "source": [
    "read_file = input(\"Enter file name: \")\n",
    "open_file = open(read_file)\n",
    "listt = list()\n",
    "for line in open_file:\n",
    "    word = line.rstrip().split()\n",
    "    for element in word:\n",
    "        if element in listt:\n",
    "            continue\n",
    "        else :\n",
    "            listt.append(element)\n",
    "listt.sort()\n",
    "print(listt)"
   ]
  },
  {
   "cell_type": "markdown",
   "metadata": {},
   "source": [
    "### Exercise 5"
   ]
  },
  {
   "cell_type": "code",
   "execution_count": 4,
   "metadata": {},
   "outputs": [
    {
     "name": "stdout",
     "output_type": "stream",
     "text": [
      "stephen.marquard@uct.ac.za\n",
      "louis@media.berkeley.edu\n",
      "zqian@umich.edu\n",
      "rjlowe@iupui.edu\n",
      "zqian@umich.edu\n",
      "rjlowe@iupui.edu\n",
      "cwen@iupui.edu\n",
      "cwen@iupui.edu\n",
      "gsilver@umich.edu\n",
      "gsilver@umich.edu\n",
      "zqian@umich.edu\n",
      "gsilver@umich.edu\n",
      "wagnermr@iupui.edu\n",
      "zqian@umich.edu\n",
      "antranig@caret.cam.ac.uk\n",
      "gopal.ramasammycook@gmail.com\n",
      "david.horwitz@uct.ac.za\n",
      "david.horwitz@uct.ac.za\n",
      "david.horwitz@uct.ac.za\n",
      "david.horwitz@uct.ac.za\n",
      "stephen.marquard@uct.ac.za\n",
      "louis@media.berkeley.edu\n",
      "louis@media.berkeley.edu\n",
      "ray@media.berkeley.edu\n",
      "cwen@iupui.edu\n",
      "cwen@iupui.edu\n",
      "cwen@iupui.edu\n",
      "The total lines in the file with From as the first word:  27\n"
     ]
    }
   ],
   "source": [
    "read_file = open('mbox-short.txt')\n",
    "count = 0\n",
    "for line in read_file:\n",
    "    words = line.split()\n",
    "    if len(words) < 3 or words[0] != 'From':\n",
    "        continue\n",
    "    print(words[1])\n",
    "    count += 1\n",
    "print('The total lines in the file with From as the first word: ',count) "
   ]
  },
  {
   "cell_type": "markdown",
   "metadata": {},
   "source": [
    "## Chapter 9"
   ]
  },
  {
   "cell_type": "markdown",
   "metadata": {},
   "source": [
    "### Exercise 4"
   ]
  },
  {
   "cell_type": "code",
   "execution_count": 10,
   "metadata": {},
   "outputs": [
    {
     "name": "stdout",
     "output_type": "stream",
     "text": [
      "Enter file name: mbox.txt\n",
      "zqian@umich.edu 195\n"
     ]
    }
   ],
   "source": [
    "dict_add=dict()\n",
    "maximum = 0\n",
    "maximum_address = ''\n",
    "read_file = input('Enter file name: ')\n",
    "file = open(read_file)\n",
    "for line in file:\n",
    "    words = line.split()\n",
    "    if len(words) < 2 or words[0] != 'From':\n",
    "        continue\n",
    "\n",
    "    if words[1] not in dict_add:\n",
    "        dict_add[words[1]] = 1 \n",
    "    else:\n",
    "        dict_add[words[1]] += 1\n",
    "\n",
    "for address in dict_add:\n",
    "    if dict_add[address] > maximum:\n",
    "        maximum = dict_add[address]\n",
    "        maximum_address = address     \n",
    "\n",
    "print(maximum_address, maximum)"
   ]
  },
  {
   "cell_type": "markdown",
   "metadata": {},
   "source": [
    "### Exercise 5"
   ]
  },
  {
   "cell_type": "code",
   "execution_count": 11,
   "metadata": {},
   "outputs": [
    {
     "name": "stdout",
     "output_type": "stream",
     "text": [
      "Enter file name: mbox.txt\n",
      "{'uct.ac.za': 96, 'media.berkeley.edu': 56, 'umich.edu': 491, 'iupui.edu': 536, 'caret.cam.ac.uk': 157, 'gmail.com': 25, 'indiana.edu': 178, 'et.gatech.edu': 17, 'vt.edu': 110, 'lancaster.ac.uk': 14, 'ucdavis.edu': 1, 'ufp.pt': 28, 'txstate.edu': 17, 'stanford.edu': 12, 'whitman.edu': 17, 'rsmart.com': 8, 'fhda.edu': 1, 'bu.edu': 14, 'unicon.net': 9, 'loi.nl': 9, 'utoronto.ca': 1}\n"
     ]
    }
   ],
   "source": [
    "dict_domains = dict()\n",
    "\n",
    "read_file = input('Enter file name: ')\n",
    "file = open(read_file)\n",
    "for line in file:\n",
    "    words = line.split()\n",
    "    if len(words) < 2 or words[0] != 'From':\n",
    "        continue\n",
    "    else:\n",
    "        atpos = words[1].find('@')\n",
    "        domain = words[1][atpos+1:]            \n",
    "        if domain not in dict_domains:\n",
    "            dict_domains[domain] = 1       \n",
    "        else:\n",
    "            dict_domains[domain] += 1     \n",
    "print(dict_domains)"
   ]
  },
  {
   "cell_type": "markdown",
   "metadata": {},
   "source": [
    "## Chapter 10 "
   ]
  },
  {
   "cell_type": "markdown",
   "metadata": {},
   "source": [
    "### Exercise 2"
   ]
  },
  {
   "cell_type": "code",
   "execution_count": 1,
   "metadata": {},
   "outputs": [
    {
     "name": "stdout",
     "output_type": "stream",
     "text": [
      "Enter file name: mbox-short.txt\n",
      "04 3\n",
      "06 1\n",
      "07 1\n",
      "09 2\n",
      "10 3\n",
      "11 6\n",
      "14 1\n",
      "15 2\n",
      "16 4\n",
      "17 2\n",
      "18 1\n",
      "19 1\n"
     ]
    }
   ],
   "source": [
    "dict_hours = dict()              \n",
    "lst = list()\n",
    "read_file = input('Enter file name: ')\n",
    "file = open(read_file)\n",
    "\n",
    "for line in file:\n",
    "    words = line.split()\n",
    "    if len(words) < 2 or words[0] != 'From':\n",
    "        continue\n",
    "\n",
    "    collen_position = words[5].find(':')\n",
    "    hour = words[5][:collen_position]\n",
    "    if hour not in dict_hours:\n",
    "        dict_hours[hour] = 1      \n",
    "    else:\n",
    "        dict_hours[hour] += 1    \n",
    "\n",
    "for key, val in list(dict_hours.items()):\n",
    "    lst.append((key, val))              \n",
    "\n",
    "lst.sort()                              \n",
    "\n",
    "for key, val in lst:\n",
    "    print(key, val)"
   ]
  },
  {
   "cell_type": "markdown",
   "metadata": {},
   "source": [
    "### Excercise 3"
   ]
  },
  {
   "cell_type": "code",
   "execution_count": 11,
   "metadata": {},
   "outputs": [
    {
     "name": "stdout",
     "output_type": "stream",
     "text": [
      "Enter file name:mbox.txt\n",
      "a 355337\n",
      "b 85569\n",
      "c 238115\n",
      "d 148380\n",
      "e 404033\n",
      "f 74252\n",
      "g 68698\n",
      "h 104017\n",
      "i 316771\n",
      "j 51155\n",
      "k 87160\n",
      "l 144889\n",
      "m 178115\n",
      "n 190902\n",
      "o 309157\n",
      "p 168447\n",
      "q 4087\n",
      "r 281859\n",
      "s 276247\n",
      "t 302616\n",
      "u 212537\n",
      "v 74757\n",
      "w 46893\n",
      "x 34011\n",
      "y 48157\n",
      "z 3795\n"
     ]
    }
   ],
   "source": [
    "read_file = input(\"Enter file name:\")\n",
    "fl= open(read_file)\n",
    "lw= fl.lower()\n",
    "ws= lw.replace(' ','')\n",
    "sm= ws.translate(\" ,-!.;?:\")\n",
    "dictionary= {}\n",
    "alphabets= list ('abcdefghijklmnopqrstuvwxyz')\n",
    "for x in alphabets:\n",
    "    dictionary[x]= sm.count(x)\n",
    "for x in dictionary:\n",
    "    print (x, dictionary[x])"
   ]
  },
  {
   "cell_type": "code",
   "execution_count": null,
   "metadata": {},
   "outputs": [],
   "source": []
  }
 ],
 "metadata": {
  "kernelspec": {
   "display_name": "Python 3",
   "language": "python",
   "name": "python3"
  },
  "language_info": {
   "codemirror_mode": {
    "name": "ipython",
    "version": 3
   },
   "file_extension": ".py",
   "mimetype": "text/x-python",
   "name": "python",
   "nbconvert_exporter": "python",
   "pygments_lexer": "ipython3",
   "version": "3.7.3"
  }
 },
 "nbformat": 4,
 "nbformat_minor": 2
}
