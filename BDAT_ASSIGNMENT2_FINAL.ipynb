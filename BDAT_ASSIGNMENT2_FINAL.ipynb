{
 "cells": [
  {
   "cell_type": "markdown",
   "metadata": {},
   "source": [
    "# Assignment 2 Variables, Conditions and Functions "
   ]
  },
  {
   "cell_type": "markdown",
   "metadata": {},
   "source": [
    "## Chapter 2"
   ]
  },
  {
   "cell_type": "markdown",
   "metadata": {},
   "source": [
    "### Exercise 2: Write a program that uses input to prompt a user for their name and then welcomes them."
   ]
  },
  {
   "cell_type": "code",
   "execution_count": 1,
   "metadata": {},
   "outputs": [
    {
     "name": "stdout",
     "output_type": "stream",
     "text": [
      "Please enter your name Collin\n",
      "Welcome Collin\n"
     ]
    }
   ],
   "source": [
    "ask_name = input(\"Please enter your name \")\n",
    "print(\"Welcome\",ask_name)"
   ]
  },
  {
   "cell_type": "markdown",
   "metadata": {},
   "source": [
    "### Exercise 3: Write a program to prompt the user for hours and rate per hour to compute gross pay."
   ]
  },
  {
   "cell_type": "code",
   "execution_count": 3,
   "metadata": {},
   "outputs": [
    {
     "name": "stdout",
     "output_type": "stream",
     "text": [
      "enter the number of hours40\n",
      "enter the rate per hour1\n",
      "40.0\n"
     ]
    }
   ],
   "source": [
    "hours=float(input(\"enter the number of hours\"))\n",
    "rate=float(input(\"enter the rate per hour\"))\n",
    "pay = hours * rate\n",
    "print(pay)"
   ]
  },
  {
   "cell_type": "markdown",
   "metadata": {},
   "source": [
    "### Exercise 4: Assume that we execute the following assignment statements:"
   ]
  },
  {
   "cell_type": "code",
   "execution_count": 2,
   "metadata": {},
   "outputs": [
    {
     "name": "stdout",
     "output_type": "stream",
     "text": [
      "8\n",
      "<class 'int'>\n",
      "8.5\n",
      "<class 'float'>\n",
      "4.0\n",
      "<class 'float'>\n",
      "11\n",
      "<class 'int'>\n"
     ]
    }
   ],
   "source": [
    "width= 17\n",
    "height = 12.0\n",
    "a= width//2\n",
    "print(a)\n",
    "print(type(a))\n",
    "b= width/2.0\n",
    "print(b)\n",
    "print(type(b))\n",
    "c=height/3\n",
    "print(c)\n",
    "print(type(c))\n",
    "d=1+2*5\n",
    "print(d)\n",
    "print(type(d))"
   ]
  },
  {
   "cell_type": "markdown",
   "metadata": {},
   "source": [
    "### Exercise 5: Write a program which prompts the user for a Celsius temperature, convert the temperature to Fahrenheit, and print out the\n",
    "### converted temperature."
   ]
  },
  {
   "cell_type": "code",
   "execution_count": 4,
   "metadata": {},
   "outputs": [
    {
     "name": "stdout",
     "output_type": "stream",
     "text": [
      "enter the temperature in celsius to convert it to fahreheit1\n",
      "33.8\n"
     ]
    }
   ],
   "source": [
    "celsius = float(input(\"enter the temperature in celsius to convert it to fahreheit\"))\n",
    "con= (celsius* 1.8000)+ 32.00\n",
    "print(con)"
   ]
  },
  {
   "cell_type": "markdown",
   "metadata": {},
   "source": [
    "## Chapter 3"
   ]
  },
  {
   "cell_type": "markdown",
   "metadata": {},
   "source": [
    "### Exercise 1: Rewrite your pay computation to give the employee 1.5 times the hourly rate for hours worked above 40 hours."
   ]
  },
  {
   "cell_type": "code",
   "execution_count": 11,
   "metadata": {},
   "outputs": [
    {
     "name": "stdout",
     "output_type": "stream",
     "text": [
      "enter the hours you worked45\n",
      "what is the rate per hour10\n",
      "475.0\n"
     ]
    }
   ],
   "source": [
    "hours = float(input(\"enter the hours you worked\"))\n",
    "rate = float(input(\"what is the rate per hour\"))\n",
    "if hours>40:\n",
    "    extra= hours - 40\n",
    "    extrapay= extra*(1.5*rate)\n",
    "    totpay= extrapay + (40*rate)\n",
    "    print(totpay)\n",
    "else:\n",
    "    totpay=hours*rate\n",
    "    print(totpay)"
   ]
  },
  {
   "cell_type": "markdown",
   "metadata": {},
   "source": [
    "### Exercise 2: Rewrite your pay program using try and except so that your program handles non-numeric input gracefully by printing a message and exiting the program. The following shows two executions of the program:"
   ]
  },
  {
   "cell_type": "code",
   "execution_count": 6,
   "metadata": {},
   "outputs": [
    {
     "name": "stdout",
     "output_type": "stream",
     "text": [
      "Please enter number of hours \n",
      "Hey\n",
      "Please enter a numberic value\n"
     ]
    }
   ],
   "source": [
    "try:   \n",
    "    hours = float(input(\"enter the hours you worked\"))\n",
    "    rate = float(input(\"what is the rate per hour\"))\n",
    "    if hours>40:\n",
    "        extra= hours - 40\n",
    "        extrapay= extra*(1.5*rate)\n",
    "        totpay= extrapay + (40*rate)\n",
    "        print(totpay)\n",
    "    else:\n",
    "           totpay=hours*rate\n",
    "           print(totpay)\n",
    "except:\n",
    "    print(\"please enter a number.\")"
   ]
  },
  {
   "cell_type": "markdown",
   "metadata": {},
   "source": [
    "### Exercise 3: Write a program to prompt for a score between 0.0 and 1.0. If the score is out of range, print an error message. If the score is between 0.0 and 1.0, print a grade using the following table:"
   ]
  },
  {
   "cell_type": "code",
   "execution_count": 7,
   "metadata": {},
   "outputs": [
    {
     "name": "stdout",
     "output_type": "stream",
     "text": [
      "Enter score to check grade\n",
      "3\n",
      "Enter score between 0 - 0.9 only\n"
     ]
    }
   ],
   "source": [
    "print(\"Enter score to check grade\")\n",
    "try:\n",
    "    grade=float(input());\n",
    "    if grade>=1:\n",
    "        print(\"Enter score between 0 - 0.9 only\")\n",
    "    elif grade>= 0.9:\n",
    "        print(\"A\")\n",
    "    elif grade>=0.8:\n",
    "        print(\"B\")\n",
    "    elif grade>=0.7:\n",
    "        print(\"C\")\n",
    "    elif grade>=0.6:\n",
    "        print(\"D\")\n",
    "    elif grade<0.6:\n",
    "        print(\"F\")\n",
    "except:\n",
    "    print(\"Enter Numberic values between 0 - 0.9 only\")"
   ]
  },
  {
   "cell_type": "markdown",
   "metadata": {},
   "source": [
    "## Chapter 4"
   ]
  },
  {
   "cell_type": "markdown",
   "metadata": {},
   "source": [
    "### Exercise 5: What will the following Python program print out? (See textbook page 54)\n",
    "### def fred():\n",
    "###     print(\"Zap\")\n",
    "### def jane():\n",
    "###     print(\"ABC\")"
   ]
  },
  {
   "cell_type": "code",
   "execution_count": null,
   "metadata": {},
   "outputs": [],
   "source": [
    "ABC Zap ABC"
   ]
  },
  {
   "cell_type": "markdown",
   "metadata": {},
   "source": [
    "### Exercise 6: Rewrite your pay computation with time-and-a-half for over-time and create a function called computepay which takes two parameters (hours and rate)."
   ]
  },
  {
   "cell_type": "code",
   "execution_count": 12,
   "metadata": {},
   "outputs": [
    {
     "name": "stdout",
     "output_type": "stream",
     "text": [
      "Enter Number of hours45\n",
      "Enter salary per hour10\n",
      "Gross pay 475.0\n"
     ]
    }
   ],
   "source": [
    "ask_hour=float(input(\"Enter Number of hours\"));        \n",
    "ask_sal=float(input(\"Enter salary per hour\"));\n",
    "\n",
    "def commutepay(ask_hour,ask_sal):\n",
    "    if ask_hour<40 :\n",
    "        print(\"Gross pay = \",round(ask_hour*ask_sal))\n",
    "    else :\n",
    "        extra_sal=ask_sal*1.5;\n",
    "        above_forty=ask_hour-40;\n",
    "        pay1=above_forty*extra_sal;\n",
    "        forty_hour=ask_hour-above_forty;\n",
    "        pay2=forty_hour*ask_sal;\n",
    "        totalpay=pay1+pay2;\n",
    "        print(\"Gross pay\", totalpay)\n",
    "        \n",
    "commutepay(ask_hour,ask_sal)"
   ]
  },
  {
   "cell_type": "markdown",
   "metadata": {},
   "source": [
    "### Exercise 7: Rewrite the grade program from the previous chapter using a function called computegrade that takes a score as its parameter and returns a grade as a string."
   ]
  },
  {
   "cell_type": "code",
   "execution_count": 14,
   "metadata": {},
   "outputs": [
    {
     "name": "stdout",
     "output_type": "stream",
     "text": [
      "Enter score to check grade0.9\n",
      "A\n"
     ]
    }
   ],
   "source": [
    "grade=float(input(\"Enter score to check grade\"));\n",
    "def commutegrade(grade):\n",
    "    try:\n",
    "        \n",
    "        if grade>=1:\n",
    "            print(\"Enter score between 0 - 0.9 only\")\n",
    "        elif grade>= 0.9:\n",
    "            print(\"Grade : A\")\n",
    "        elif grade>=0.8:\n",
    "            print(\"Grade : B\")\n",
    "        elif grade>=0.7:\n",
    "            print(\"Grade : C\")\n",
    "        elif grade>=0.6:\n",
    "            print(\"Grade : D\")\n",
    "        elif grade<0.6:\n",
    "            print(\"Grade : F\")\n",
    "    except:\n",
    "        print(\"Enter Numberic values between 0 - 0.9 only\")\n",
    "\n",
    "commutegrade(grade)"
   ]
  },
  {
   "cell_type": "code",
   "execution_count": null,
   "metadata": {},
   "outputs": [],
   "source": []
  }
 ],
 "metadata": {
  "kernelspec": {
   "display_name": "Python 3",
   "language": "python",
   "name": "python3"
  },
  "language_info": {
   "codemirror_mode": {
    "name": "ipython",
    "version": 3
   },
   "file_extension": ".py",
   "mimetype": "text/x-python",
   "name": "python",
   "nbconvert_exporter": "python",
   "pygments_lexer": "ipython3",
   "version": "3.7.3"
  }
 },
 "nbformat": 4,
 "nbformat_minor": 2
}
