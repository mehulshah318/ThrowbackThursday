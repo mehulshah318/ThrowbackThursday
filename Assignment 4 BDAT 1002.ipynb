{
 "cells": [
  {
   "cell_type": "markdown",
   "metadata": {},
   "source": [
    "# Assignment 4 RegEx and Web Services"
   ]
  },
  {
   "cell_type": "markdown",
   "metadata": {},
   "source": [
    "## Chapter 11 "
   ]
  },
  {
   "cell_type": "markdown",
   "metadata": {},
   "source": [
    "### Exercise 1"
   ]
  },
  {
   "cell_type": "code",
   "execution_count": 2,
   "metadata": {},
   "outputs": [
    {
     "name": "stdout",
     "output_type": "stream",
     "text": [
      "Enter a regular expression.^Author\n",
      "1798\n"
     ]
    }
   ],
   "source": [
    "import re\n",
    "\n",
    "ask=input('Enter a regular expression.')\n",
    "\n",
    "file = open('mbox.txt')\n",
    "\n",
    "count = 0\n",
    "\n",
    "for line in file:\n",
    "  line=line.rstrip()\n",
    "  if re.search(ask, line):\n",
    "    count=count+1\n",
    "print (count)"
   ]
  },
  {
   "cell_type": "markdown",
   "metadata": {},
   "source": [
    "### Exercise 2"
   ]
  },
  {
   "cell_type": "code",
   "execution_count": 3,
   "metadata": {},
   "outputs": [
    {
     "name": "stdout",
     "output_type": "stream",
     "text": [
      "Enter file namembox.txt\n",
      "The average is: 39386.181069958846\n"
     ]
    }
   ],
   "source": [
    "import re\n",
    "count = 0\n",
    "revisions = 0\n",
    "Enter=input(\"Enter file name\")\n",
    "file = open(Enter)\n",
    "for line in file:\n",
    "    line=line.rstrip()\n",
    "    if re.findall('New Revision: 397*', line):\n",
    "        rev_num = line[14:19]\n",
    "        count += 1\n",
    "        revisions = revisions + float(rev_num)\n",
    "average = revisions/count\n",
    "print(\"The average is: \" + str(average))"
   ]
  },
  {
   "cell_type": "markdown",
   "metadata": {},
   "source": [
    "## Chapter 12"
   ]
  },
  {
   "cell_type": "markdown",
   "metadata": {},
   "source": [
    "### Exercise 1"
   ]
  },
  {
   "cell_type": "code",
   "execution_count": 1,
   "metadata": {},
   "outputs": [
    {
     "name": "stdout",
     "output_type": "stream",
     "text": [
      "Enter URL: http://data.pr4e.org/romeo.txt\n",
      "HTTP/1.1 200 OK\n",
      "Date: Thu, 03 Oct 2019 21:09:48 GMT\n",
      "Server: Apache/2.4.18 (Ubuntu)\n",
      "Last-Modified: Sat, 13 May 2017 11:22:22 GMT\n",
      "ETag: \"a7-54f6609245537\"\n",
      "Accept-Ranges: bytes\n",
      "Content-Length: 167\n",
      "Cache-Control: max-age=0, no-cache, no-store, must-revalidate\n",
      "Pragma: no-cache\n",
      "Expires: Wed, 11 Jan 1984 05:00:00 GMT\n",
      "Connection: close\n",
      "Content-Type: text/plain\n",
      "\n",
      "But soft what light through yonder window breaks\n",
      "It is the east and Juliet is the sun\n",
      "Arise fair sun and kill the envious moon\n",
      "Who is already sick and pale with grief\n"
     ]
    }
   ],
   "source": [
    "import socket\n",
    "mysock = socket.socket(socket.AF_INET, socket.SOCK_STREAM)\n",
    "try:\n",
    "    url = input('Enter URL: ')\n",
    "    host = url.split('/')[2]    \n",
    "    cmd = ('GET {} HTTP/1.0\\r\\n\\r\\n').format(url).encode()\n",
    "    mysock.connect((host, 80))\n",
    "    mysock.send(cmd)\n",
    "    while True:\n",
    "        data = mysock.recv(512)\n",
    "        if ( len(data) < 1 ) :\n",
    "            break\n",
    "        print (data.decode(),end='')\n",
    "    mysock.close()\n",
    "except:\n",
    "    print('Error ! Enter URL properly !')"
   ]
  },
  {
   "cell_type": "markdown",
   "metadata": {},
   "source": [
    "### Exercise 2"
   ]
  },
  {
   "cell_type": "code",
   "execution_count": 2,
   "metadata": {},
   "outputs": [
    {
     "name": "stdout",
     "output_type": "stream",
     "text": [
      "Enter url: http://data.pr4e.org/romeo.txt\n",
      "536\n"
     ]
    }
   ],
   "source": [
    "import socket\n",
    "import os\n",
    "\n",
    "user_url = input(\"Enter url: \")\n",
    "try:\n",
    "    host_name = user_url.split(\"/\")[2]\n",
    "    mysock = socket.socket(socket.AF_INET, socket.SOCK_STREAM)\n",
    "    mysock.connect((host_name, 80))\n",
    "    mysock.send('GET {} HTTP/1.0\\r\\n\\r\\n'.format(user_url).encode())\n",
    "except:\n",
    "    print (\"Please enter a valid URL\")\n",
    "    os.sys.exit(1)\n",
    "\n",
    "count = 0\n",
    "while True:\n",
    "    data = mysock.recv(512)\n",
    "    count += len(data)\n",
    "    if (len(data) < 1) or count >= 3000:\n",
    "        break\n",
    "mysock.close()\n",
    "print (count)"
   ]
  },
  {
   "cell_type": "markdown",
   "metadata": {},
   "source": [
    "### Exercise 3"
   ]
  },
  {
   "cell_type": "code",
   "execution_count": 3,
   "metadata": {},
   "outputs": [
    {
     "name": "stdout",
     "output_type": "stream",
     "text": [
      "Enter URL : http://data.pr4e.org/romeo.txt\n",
      "b'But soft what light through yonder window breaks\\nIt is the east and Juliet is the sun\\nArise fair sun and kill the envious moon\\nWho is already sick and pale with grief\\n'\n",
      "167\n"
     ]
    }
   ],
   "source": [
    "import urllib.request as ur\n",
    "\n",
    "url = input('Enter URL : ')\n",
    "\n",
    "fhand = ur.urlopen(url)\n",
    "\n",
    "display = fhand.read()\n",
    "print(display[:3001])\n",
    "c=0\n",
    "for i in display:\n",
    "    c+=1\n",
    "print(c) "
   ]
  },
  {
   "cell_type": "markdown",
   "metadata": {},
   "source": [
    "### Exercise 4"
   ]
  },
  {
   "cell_type": "code",
   "execution_count": 4,
   "metadata": {},
   "outputs": [
    {
     "name": "stdout",
     "output_type": "stream",
     "text": [
      "Enter URL : http://data.pr4e.org/romeo.txt\n",
      "1\n"
     ]
    }
   ],
   "source": [
    "from bs4 import BeautifulSoup\n",
    "import urllib.request as ur\n",
    "\n",
    "url = input('Enter URL : ')\n",
    "html = ur.urlopen(url).read()\n",
    "soup = BeautifulSoup(html)\n",
    "tags = soup('p')\n",
    "c = 0\n",
    "for tag in tags:\n",
    "    c+=1\n",
    "print(c)"
   ]
  },
  {
   "cell_type": "markdown",
   "metadata": {},
   "source": [
    "### Exercise 5"
   ]
  },
  {
   "cell_type": "code",
   "execution_count": 5,
   "metadata": {},
   "outputs": [
    {
     "name": "stdout",
     "output_type": "stream",
     "text": [
      "<!DOCTYPE HTML PUBLIC \"-//IETF//DTD HTML 2.0//EN\">\n",
      "<html><head>\n",
      "<title>400 Bad Request</title>\n",
      "</head><body>\n",
      "<h1>Bad Request</h1>\n",
      "<p>Your browser sent a request that this server could not understand.<br />\n",
      "</p>\n",
      "<hr>\n",
      "<address>Apache/2.4.18 (Ubuntu) Server at do1.dr-chuck.com Port 80</address>\n",
      "</body></html>\n",
      "\n"
     ]
    }
   ],
   "source": [
    "import socket\n",
    "import re\n",
    "\n",
    "my_sock = socket.socket(socket.AF_INET, socket.SOCK_STREAM)\n",
    "my_sock.connect(('data.pr4e.org', 80))\n",
    "cmd = 'GET http://data.pr4e.org/romeo.txt HTTP/1.0\\n\\n'.encode()\n",
    "my_sock.send(cmd)\n",
    "\n",
    "data = my_sock.recv(512)\n",
    "message = data.decode()\n",
    "header_end_pos = message.find('\\r\\n\\r\\n') + 4   # Finds the end of header\n",
    "                                            # Adds four to exclude:'\\r\\n\\r\\n'\n",
    "print(message[header_end_pos:])\n",
    "while True:                                 # Header in the first data only\n",
    "    data = my_sock.recv(512)\n",
    "    if not data:\n",
    "        break\n",
    "    print(data.decode())\n",
    "my_sock.close()"
   ]
  },
  {
   "cell_type": "code",
   "execution_count": null,
   "metadata": {},
   "outputs": [],
   "source": []
  }
 ],
 "metadata": {
  "kernelspec": {
   "display_name": "Python 3",
   "language": "python",
   "name": "python3"
  },
  "language_info": {
   "codemirror_mode": {
    "name": "ipython",
    "version": 3
   },
   "file_extension": ".py",
   "mimetype": "text/x-python",
   "name": "python",
   "nbconvert_exporter": "python",
   "pygments_lexer": "ipython3",
   "version": "3.7.3"
  }
 },
 "nbformat": 4,
 "nbformat_minor": 2
}
